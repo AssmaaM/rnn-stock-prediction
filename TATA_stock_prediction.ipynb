{
 "cells": [
  {
   "cell_type": "code",
   "execution_count": 65,
   "id": "65dffbbb-3e27-43ab-958f-be87afa4ebee",
   "metadata": {},
   "outputs": [],
   "source": [
    "import numpy as np\n",
    "import pandas as pd\n",
    "import matplotlib.pyplot as plt"
   ]
  },
  {
   "cell_type": "code",
   "execution_count": 67,
   "id": "550b3bd3-b152-4b8a-afa4-8c309e19485a",
   "metadata": {},
   "outputs": [],
   "source": [
    "dataset_train=pd.read_csv(\"NSE-TATAGLOBAL.csv\")\n",
    "\n",
    "training_set=dataset_train.iloc[:, 1:2].values"
   ]
  },
  {
   "cell_type": "code",
   "execution_count": 69,
   "id": "8052c263-7221-4b80-a8b0-c7845312b546",
   "metadata": {},
   "outputs": [
    {
     "data": {
      "text/html": [
       "<div>\n",
       "<style scoped>\n",
       "    .dataframe tbody tr th:only-of-type {\n",
       "        vertical-align: middle;\n",
       "    }\n",
       "\n",
       "    .dataframe tbody tr th {\n",
       "        vertical-align: top;\n",
       "    }\n",
       "\n",
       "    .dataframe thead th {\n",
       "        text-align: right;\n",
       "    }\n",
       "</style>\n",
       "<table border=\"1\" class=\"dataframe\">\n",
       "  <thead>\n",
       "    <tr style=\"text-align: right;\">\n",
       "      <th></th>\n",
       "      <th>Date</th>\n",
       "      <th>Open</th>\n",
       "      <th>High</th>\n",
       "      <th>Low</th>\n",
       "      <th>Last</th>\n",
       "      <th>Close</th>\n",
       "      <th>Total Trade Quantity</th>\n",
       "      <th>Turnover (Lacs)</th>\n",
       "    </tr>\n",
       "  </thead>\n",
       "  <tbody>\n",
       "    <tr>\n",
       "      <th>0</th>\n",
       "      <td>2018-09-28</td>\n",
       "      <td>234.05</td>\n",
       "      <td>235.95</td>\n",
       "      <td>230.20</td>\n",
       "      <td>233.50</td>\n",
       "      <td>233.75</td>\n",
       "      <td>3069914</td>\n",
       "      <td>7162.35</td>\n",
       "    </tr>\n",
       "    <tr>\n",
       "      <th>1</th>\n",
       "      <td>2018-09-27</td>\n",
       "      <td>234.55</td>\n",
       "      <td>236.80</td>\n",
       "      <td>231.10</td>\n",
       "      <td>233.80</td>\n",
       "      <td>233.25</td>\n",
       "      <td>5082859</td>\n",
       "      <td>11859.95</td>\n",
       "    </tr>\n",
       "    <tr>\n",
       "      <th>2</th>\n",
       "      <td>2018-09-26</td>\n",
       "      <td>240.00</td>\n",
       "      <td>240.00</td>\n",
       "      <td>232.50</td>\n",
       "      <td>235.00</td>\n",
       "      <td>234.25</td>\n",
       "      <td>2240909</td>\n",
       "      <td>5248.60</td>\n",
       "    </tr>\n",
       "    <tr>\n",
       "      <th>3</th>\n",
       "      <td>2018-09-25</td>\n",
       "      <td>233.30</td>\n",
       "      <td>236.75</td>\n",
       "      <td>232.00</td>\n",
       "      <td>236.25</td>\n",
       "      <td>236.10</td>\n",
       "      <td>2349368</td>\n",
       "      <td>5503.90</td>\n",
       "    </tr>\n",
       "    <tr>\n",
       "      <th>4</th>\n",
       "      <td>2018-09-24</td>\n",
       "      <td>233.55</td>\n",
       "      <td>239.20</td>\n",
       "      <td>230.75</td>\n",
       "      <td>234.00</td>\n",
       "      <td>233.30</td>\n",
       "      <td>3423509</td>\n",
       "      <td>7999.55</td>\n",
       "    </tr>\n",
       "    <tr>\n",
       "      <th>5</th>\n",
       "      <td>2018-09-21</td>\n",
       "      <td>235.00</td>\n",
       "      <td>237.00</td>\n",
       "      <td>227.95</td>\n",
       "      <td>233.75</td>\n",
       "      <td>234.60</td>\n",
       "      <td>5395319</td>\n",
       "      <td>12589.59</td>\n",
       "    </tr>\n",
       "    <tr>\n",
       "      <th>6</th>\n",
       "      <td>2018-09-19</td>\n",
       "      <td>235.95</td>\n",
       "      <td>237.20</td>\n",
       "      <td>233.45</td>\n",
       "      <td>234.60</td>\n",
       "      <td>234.90</td>\n",
       "      <td>1362058</td>\n",
       "      <td>3202.78</td>\n",
       "    </tr>\n",
       "    <tr>\n",
       "      <th>7</th>\n",
       "      <td>2018-09-18</td>\n",
       "      <td>237.90</td>\n",
       "      <td>239.25</td>\n",
       "      <td>233.50</td>\n",
       "      <td>235.50</td>\n",
       "      <td>235.05</td>\n",
       "      <td>2614794</td>\n",
       "      <td>6163.70</td>\n",
       "    </tr>\n",
       "    <tr>\n",
       "      <th>8</th>\n",
       "      <td>2018-09-17</td>\n",
       "      <td>233.15</td>\n",
       "      <td>238.00</td>\n",
       "      <td>230.25</td>\n",
       "      <td>236.40</td>\n",
       "      <td>236.60</td>\n",
       "      <td>3170894</td>\n",
       "      <td>7445.41</td>\n",
       "    </tr>\n",
       "    <tr>\n",
       "      <th>9</th>\n",
       "      <td>2018-09-14</td>\n",
       "      <td>223.45</td>\n",
       "      <td>236.70</td>\n",
       "      <td>223.30</td>\n",
       "      <td>234.00</td>\n",
       "      <td>233.95</td>\n",
       "      <td>6377909</td>\n",
       "      <td>14784.50</td>\n",
       "    </tr>\n",
       "  </tbody>\n",
       "</table>\n",
       "</div>"
      ],
      "text/plain": [
       "         Date    Open    High     Low    Last   Close  Total Trade Quantity  \\\n",
       "0  2018-09-28  234.05  235.95  230.20  233.50  233.75               3069914   \n",
       "1  2018-09-27  234.55  236.80  231.10  233.80  233.25               5082859   \n",
       "2  2018-09-26  240.00  240.00  232.50  235.00  234.25               2240909   \n",
       "3  2018-09-25  233.30  236.75  232.00  236.25  236.10               2349368   \n",
       "4  2018-09-24  233.55  239.20  230.75  234.00  233.30               3423509   \n",
       "5  2018-09-21  235.00  237.00  227.95  233.75  234.60               5395319   \n",
       "6  2018-09-19  235.95  237.20  233.45  234.60  234.90               1362058   \n",
       "7  2018-09-18  237.90  239.25  233.50  235.50  235.05               2614794   \n",
       "8  2018-09-17  233.15  238.00  230.25  236.40  236.60               3170894   \n",
       "9  2018-09-14  223.45  236.70  223.30  234.00  233.95               6377909   \n",
       "\n",
       "   Turnover (Lacs)  \n",
       "0          7162.35  \n",
       "1         11859.95  \n",
       "2          5248.60  \n",
       "3          5503.90  \n",
       "4          7999.55  \n",
       "5         12589.59  \n",
       "6          3202.78  \n",
       "7          6163.70  \n",
       "8          7445.41  \n",
       "9         14784.50  "
      ]
     },
     "execution_count": 69,
     "metadata": {},
     "output_type": "execute_result"
    }
   ],
   "source": [
    "dataset_train.head(10)"
   ]
  },
  {
   "cell_type": "code",
   "execution_count": 71,
   "id": "ffd59b43-5dea-4ef6-baa8-b111ce6e5224",
   "metadata": {},
   "outputs": [
    {
     "data": {
      "text/plain": [
       "(2035, 8)"
      ]
     },
     "execution_count": 71,
     "metadata": {},
     "output_type": "execute_result"
    }
   ],
   "source": [
    "dataset_train.shape"
   ]
  },
  {
   "cell_type": "code",
   "execution_count": 73,
   "id": "8ec42009-e1a8-4db5-998d-5e8f9e2ea50a",
   "metadata": {},
   "outputs": [],
   "source": [
    "from sklearn.preprocessing import MinMaxScaler\n",
    "sc=MinMaxScaler(feature_range=(0,1))\n",
    "training_set_Scaled=sc.fit_transform(training_set)"
   ]
  },
  {
   "cell_type": "code",
   "execution_count": 75,
   "id": "205eb956-4dae-4168-ae61-3078a66d68e6",
   "metadata": {},
   "outputs": [
    {
     "data": {
      "text/plain": [
       "(2035, 1)"
      ]
     },
     "execution_count": 75,
     "metadata": {},
     "output_type": "execute_result"
    }
   ],
   "source": [
    "training_set_Scaled.shape"
   ]
  },
  {
   "cell_type": "code",
   "execution_count": 91,
   "id": "ea9cdcce-5895-4802-8ae4-e58cf28bed76",
   "metadata": {},
   "outputs": [],
   "source": [
    "X_train=[]\n",
    "y_train=[]\n",
    "for i in range(60,2035):\n",
    "    X_train.append(training_set_Scaled[i-60:i,0])\n",
    "    y_train.append(training_set_Scaled[i,0])\n",
    "\n",
    "X_train, y_train=np.array(X_train), np.array(y_train)"
   ]
  },
  {
   "cell_type": "code",
   "execution_count": 93,
   "id": "604b3159-46b0-423c-900e-c879bbd3af42",
   "metadata": {},
   "outputs": [
    {
     "data": {
      "text/plain": [
       "(2035, 8)"
      ]
     },
     "execution_count": 93,
     "metadata": {},
     "output_type": "execute_result"
    }
   ],
   "source": [
    "dataset_train.shape"
   ]
  },
  {
   "cell_type": "code",
   "execution_count": 95,
   "id": "0ed3ef10-1764-4f57-bb40-952bc6d329c2",
   "metadata": {},
   "outputs": [
    {
     "data": {
      "text/plain": [
       "(1975, 60)"
      ]
     },
     "execution_count": 95,
     "metadata": {},
     "output_type": "execute_result"
    }
   ],
   "source": [
    "X_train.shape"
   ]
  },
  {
   "cell_type": "code",
   "execution_count": 97,
   "id": "fac37fde-bd62-468b-8f36-6c3a5609dc31",
   "metadata": {},
   "outputs": [],
   "source": [
    "#Reshape\n",
    "X_train=np.reshape(X_train,(X_train.shape[0],X_train.shape[1],1))"
   ]
  },
  {
   "cell_type": "code",
   "execution_count": 99,
   "id": "cb02d86e-c848-452a-b0c2-ab8c0f350863",
   "metadata": {},
   "outputs": [
    {
     "data": {
      "text/plain": [
       "(1975, 60, 1)"
      ]
     },
     "execution_count": 99,
     "metadata": {},
     "output_type": "execute_result"
    }
   ],
   "source": [
    "X_train.shape"
   ]
  },
  {
   "cell_type": "code",
   "execution_count": 101,
   "id": "076c0523-a802-4cb3-ae08-8c3064299849",
   "metadata": {},
   "outputs": [],
   "source": [
    "from keras.models import Sequential\n",
    "from keras.layers import Dense, LSTM, Dropout"
   ]
  },
  {
   "cell_type": "code",
   "execution_count": 103,
   "id": "150a4788-1b0d-4dd1-af4b-5424470f78ac",
   "metadata": {},
   "outputs": [
    {
     "data": {
      "text/plain": [
       "(60, 1)"
      ]
     },
     "execution_count": 103,
     "metadata": {},
     "output_type": "execute_result"
    }
   ],
   "source": [
    "input_shape=(X_train.shape[1],1)\n",
    "input_shape"
   ]
  },
  {
   "cell_type": "code",
   "execution_count": 105,
   "id": "a578ec2b-1fad-475d-8d1c-978981d90533",
   "metadata": {},
   "outputs": [
    {
     "name": "stderr",
     "output_type": "stream",
     "text": [
      "C:\\Users\\assma\\AppData\\Roaming\\Python\\Python312\\site-packages\\keras\\src\\layers\\rnn\\rnn.py:199: UserWarning: Do not pass an `input_shape`/`input_dim` argument to a layer. When using Sequential models, prefer using an `Input(shape)` object as the first layer in the model instead.\n",
      "  super().__init__(**kwargs)\n"
     ]
    }
   ],
   "source": [
    "regressor=Sequential()\n",
    "regressor.add(LSTM(units=50, return_sequences=True, input_shape=(X_train.shape[1],1)))\n",
    "regressor.add(Dropout(0.2))"
   ]
  },
  {
   "cell_type": "code",
   "execution_count": 107,
   "id": "9a0c5e63-e8ae-41ad-95b2-707516d78821",
   "metadata": {},
   "outputs": [],
   "source": [
    "# add second layer od LSTM and Dropout\n",
    "regressor.add(LSTM(units=50, return_sequences=True))\n",
    "regressor.add(Dropout(0.2))\n",
    "\n",
    "#add third layer od LSTM and Dropout\n",
    "regressor.add(LSTM(units=50, return_sequences=True))\n",
    "regressor.add(Dropout(0.2))\n",
    "\n",
    "#add fourth layer od LSTM \n",
    "regressor.add(LSTM(units=50))\n",
    "#regressor.add(Dropout(0.2))"
   ]
  },
  {
   "cell_type": "code",
   "execution_count": 109,
   "id": "2ce40620-51fc-48cf-a59b-88361a3858f3",
   "metadata": {},
   "outputs": [
    {
     "name": "stdout",
     "output_type": "stream",
     "text": [
      "Epoch 1/10\n",
      "\u001b[1m62/62\u001b[0m \u001b[32m━━━━━━━━━━━━━━━━━━━━\u001b[0m\u001b[37m\u001b[0m \u001b[1m16s\u001b[0m 132ms/step - loss: 0.0229\n",
      "Epoch 2/10\n",
      "\u001b[1m62/62\u001b[0m \u001b[32m━━━━━━━━━━━━━━━━━━━━\u001b[0m\u001b[37m\u001b[0m \u001b[1m8s\u001b[0m 121ms/step - loss: 0.0046\n",
      "Epoch 3/10\n",
      "\u001b[1m62/62\u001b[0m \u001b[32m━━━━━━━━━━━━━━━━━━━━\u001b[0m\u001b[37m\u001b[0m \u001b[1m7s\u001b[0m 119ms/step - loss: 0.0033\n",
      "Epoch 4/10\n",
      "\u001b[1m62/62\u001b[0m \u001b[32m━━━━━━━━━━━━━━━━━━━━\u001b[0m\u001b[37m\u001b[0m \u001b[1m8s\u001b[0m 130ms/step - loss: 0.0033\n",
      "Epoch 5/10\n",
      "\u001b[1m62/62\u001b[0m \u001b[32m━━━━━━━━━━━━━━━━━━━━\u001b[0m\u001b[37m\u001b[0m \u001b[1m8s\u001b[0m 130ms/step - loss: 0.0027\n",
      "Epoch 6/10\n",
      "\u001b[1m62/62\u001b[0m \u001b[32m━━━━━━━━━━━━━━━━━━━━\u001b[0m\u001b[37m\u001b[0m \u001b[1m8s\u001b[0m 125ms/step - loss: 0.0025\n",
      "Epoch 7/10\n",
      "\u001b[1m62/62\u001b[0m \u001b[32m━━━━━━━━━━━━━━━━━━━━\u001b[0m\u001b[37m\u001b[0m \u001b[1m8s\u001b[0m 126ms/step - loss: 0.0024\n",
      "Epoch 8/10\n",
      "\u001b[1m62/62\u001b[0m \u001b[32m━━━━━━━━━━━━━━━━━━━━\u001b[0m\u001b[37m\u001b[0m \u001b[1m8s\u001b[0m 125ms/step - loss: 0.0021\n",
      "Epoch 9/10\n",
      "\u001b[1m62/62\u001b[0m \u001b[32m━━━━━━━━━━━━━━━━━━━━\u001b[0m\u001b[37m\u001b[0m \u001b[1m8s\u001b[0m 125ms/step - loss: 0.0022\n",
      "Epoch 10/10\n",
      "\u001b[1m62/62\u001b[0m \u001b[32m━━━━━━━━━━━━━━━━━━━━\u001b[0m\u001b[37m\u001b[0m \u001b[1m8s\u001b[0m 126ms/step - loss: 0.0019\n"
     ]
    },
    {
     "data": {
      "text/plain": [
       "<keras.src.callbacks.history.History at 0x167d3dd3020>"
      ]
     },
     "execution_count": 109,
     "metadata": {},
     "output_type": "execute_result"
    }
   ],
   "source": [
    "#add output layer\n",
    "regressor.add(Dense(units=1))\n",
    "\n",
    "regressor.compile(optimizer='rmsprop', loss='mean_squared_error')\n",
    "regressor.fit(X_train, y_train, epochs=10, batch_size=32)"
   ]
  },
  {
   "cell_type": "code",
   "execution_count": 119,
   "id": "2edb3bff-8c77-4411-be11-8a8e6fea73b0",
   "metadata": {},
   "outputs": [],
   "source": [
    "dataset_test=pd.read_csv(\"tatatest.csv\")\n",
    "real_stock_price=dataset_test.iloc[:, 1:2].values"
   ]
  },
  {
   "cell_type": "code",
   "execution_count": 121,
   "id": "04ac7bd6-0805-4694-b7d7-760a1e82ffb9",
   "metadata": {},
   "outputs": [
    {
     "data": {
      "text/plain": [
       "(248, 8)"
      ]
     },
     "execution_count": 121,
     "metadata": {},
     "output_type": "execute_result"
    }
   ],
   "source": [
    "dataset_test.shape"
   ]
  },
  {
   "cell_type": "code",
   "execution_count": 123,
   "id": "665e4f2e-4a32-4009-a2a6-e315f329639e",
   "metadata": {},
   "outputs": [
    {
     "data": {
      "text/plain": [
       "array([[308.05],\n",
       "       [306.5 ],\n",
       "       [305.5 ],\n",
       "       [303.7 ],\n",
       "       [301.  ],\n",
       "       [302.25],\n",
       "       [301.  ],\n",
       "       [292.  ],\n",
       "       [280.  ],\n",
       "       [289.  ],\n",
       "       [288.  ],\n",
       "       [290.  ],\n",
       "       [298.6 ],\n",
       "       [290.  ],\n",
       "       [287.55],\n",
       "       [276.  ],\n",
       "       [278.9 ],\n",
       "       [279.4 ],\n",
       "       [285.  ],\n",
       "       [288.45],\n",
       "       [278.9 ],\n",
       "       [287.3 ],\n",
       "       [277.  ],\n",
       "       [277.5 ],\n",
       "       [275.05],\n",
       "       [273.15],\n",
       "       [273.5 ],\n",
       "       [275.9 ],\n",
       "       [261.15],\n",
       "       [252.25],\n",
       "       [254.  ],\n",
       "       [237.9 ],\n",
       "       [234.7 ],\n",
       "       [236.3 ],\n",
       "       [240.7 ],\n",
       "       [225.8 ],\n",
       "       [226.  ],\n",
       "       [235.  ],\n",
       "       [224.9 ],\n",
       "       [227.  ],\n",
       "       [227.9 ],\n",
       "       [226.95],\n",
       "       [226.95],\n",
       "       [225.  ],\n",
       "       [211.3 ],\n",
       "       [204.95],\n",
       "       [211.  ],\n",
       "       [204.  ],\n",
       "       [205.5 ],\n",
       "       [207.9 ],\n",
       "       [211.45],\n",
       "       [210.4 ],\n",
       "       [210.3 ],\n",
       "       [211.  ],\n",
       "       [211.  ],\n",
       "       [209.45],\n",
       "       [209.5 ],\n",
       "       [209.65],\n",
       "       [210.  ],\n",
       "       [204.95],\n",
       "       [207.3 ],\n",
       "       [207.25],\n",
       "       [204.5 ],\n",
       "       [199.05],\n",
       "       [206.5 ],\n",
       "       [196.  ],\n",
       "       [201.45],\n",
       "       [211.  ],\n",
       "       [214.  ],\n",
       "       [216.4 ],\n",
       "       [213.  ],\n",
       "       [212.65],\n",
       "       [211.  ],\n",
       "       [208.5 ],\n",
       "       [214.65],\n",
       "       [212.  ],\n",
       "       [209.2 ],\n",
       "       [206.1 ],\n",
       "       [207.95],\n",
       "       [195.1 ],\n",
       "       [194.3 ],\n",
       "       [198.  ],\n",
       "       [198.25],\n",
       "       [198.5 ],\n",
       "       [193.  ],\n",
       "       [192.95],\n",
       "       [195.  ],\n",
       "       [197.3 ],\n",
       "       [191.5 ],\n",
       "       [197.15],\n",
       "       [196.65],\n",
       "       [189.8 ],\n",
       "       [194.  ],\n",
       "       [182.5 ],\n",
       "       [166.  ],\n",
       "       [155.1 ],\n",
       "       [161.85],\n",
       "       [165.5 ],\n",
       "       [171.8 ],\n",
       "       [167.  ],\n",
       "       [164.7 ],\n",
       "       [165.95],\n",
       "       [168.  ],\n",
       "       [171.  ],\n",
       "       [169.5 ],\n",
       "       [167.9 ],\n",
       "       [173.85],\n",
       "       [172.  ],\n",
       "       [170.5 ],\n",
       "       [172.2 ],\n",
       "       [171.9 ],\n",
       "       [175.4 ],\n",
       "       [173.8 ],\n",
       "       [176.1 ],\n",
       "       [174.25],\n",
       "       [175.9 ],\n",
       "       [175.35],\n",
       "       [171.05],\n",
       "       [167.05],\n",
       "       [159.  ],\n",
       "       [153.15],\n",
       "       [156.5 ],\n",
       "       [151.5 ],\n",
       "       [153.7 ],\n",
       "       [152.5 ],\n",
       "       [148.  ],\n",
       "       [149.95],\n",
       "       [147.25],\n",
       "       [151.15],\n",
       "       [154.6 ],\n",
       "       [157.  ],\n",
       "       [156.8 ],\n",
       "       [156.75],\n",
       "       [159.  ],\n",
       "       [159.95],\n",
       "       [158.45],\n",
       "       [156.95],\n",
       "       [152.45],\n",
       "       [153.5 ],\n",
       "       [154.9 ],\n",
       "       [155.1 ],\n",
       "       [152.65],\n",
       "       [155.  ],\n",
       "       [155.05],\n",
       "       [153.1 ],\n",
       "       [148.35],\n",
       "       [148.55],\n",
       "       [145.  ],\n",
       "       [147.2 ],\n",
       "       [144.  ],\n",
       "       [143.45],\n",
       "       [145.2 ],\n",
       "       [148.05],\n",
       "       [149.8 ],\n",
       "       [149.5 ],\n",
       "       [152.  ],\n",
       "       [154.  ],\n",
       "       [154.6 ],\n",
       "       [152.65],\n",
       "       [154.  ],\n",
       "       [155.  ],\n",
       "       [154.9 ],\n",
       "       [153.2 ],\n",
       "       [152.8 ],\n",
       "       [156.5 ],\n",
       "       [156.3 ],\n",
       "       [158.85],\n",
       "       [154.3 ],\n",
       "       [153.4 ],\n",
       "       [155.  ],\n",
       "       [152.45],\n",
       "       [152.4 ],\n",
       "       [151.  ],\n",
       "       [153.5 ],\n",
       "       [150.25],\n",
       "       [147.9 ],\n",
       "       [149.1 ],\n",
       "       [151.  ],\n",
       "       [152.  ],\n",
       "       [153.95],\n",
       "       [151.5 ],\n",
       "       [151.5 ],\n",
       "       [152.8 ],\n",
       "       [152.9 ],\n",
       "       [152.8 ],\n",
       "       [150.65],\n",
       "       [151.45],\n",
       "       [151.45],\n",
       "       [151.7 ],\n",
       "       [149.9 ],\n",
       "       [151.  ],\n",
       "       [152.9 ],\n",
       "       [143.9 ],\n",
       "       [145.55],\n",
       "       [147.  ],\n",
       "       [144.8 ],\n",
       "       [145.7 ],\n",
       "       [141.6 ],\n",
       "       [139.6 ],\n",
       "       [140.2 ],\n",
       "       [140.85],\n",
       "       [140.6 ],\n",
       "       [142.4 ],\n",
       "       [143.  ],\n",
       "       [143.95],\n",
       "       [141.1 ],\n",
       "       [145.45],\n",
       "       [138.5 ],\n",
       "       [139.15],\n",
       "       [139.  ],\n",
       "       [140.05],\n",
       "       [142.55],\n",
       "       [142.15],\n",
       "       [141.  ],\n",
       "       [140.9 ],\n",
       "       [139.2 ],\n",
       "       [140.9 ],\n",
       "       [142.4 ],\n",
       "       [144.9 ],\n",
       "       [143.95],\n",
       "       [146.  ],\n",
       "       [141.95],\n",
       "       [142.1 ],\n",
       "       [141.9 ],\n",
       "       [138.2 ],\n",
       "       [132.45],\n",
       "       [129.05],\n",
       "       [130.5 ],\n",
       "       [129.1 ],\n",
       "       [128.35],\n",
       "       [129.25],\n",
       "       [128.8 ],\n",
       "       [127.6 ],\n",
       "       [130.25],\n",
       "       [129.8 ],\n",
       "       [128.  ],\n",
       "       [128.6 ],\n",
       "       [128.2 ],\n",
       "       [126.9 ],\n",
       "       [128.3 ],\n",
       "       [125.  ],\n",
       "       [125.5 ],\n",
       "       [124.75],\n",
       "       [125.4 ],\n",
       "       [124.75],\n",
       "       [125.  ],\n",
       "       [122.8 ],\n",
       "       [122.8 ]])"
      ]
     },
     "execution_count": 123,
     "metadata": {},
     "output_type": "execute_result"
    }
   ],
   "source": [
    "real_stock_price"
   ]
  },
  {
   "cell_type": "code",
   "execution_count": 125,
   "id": "0d49ff52-dd54-4615-8c6f-298d45ec7494",
   "metadata": {},
   "outputs": [
    {
     "data": {
      "text/plain": [
       "0      234.05\n",
       "1      234.55\n",
       "2      240.00\n",
       "3      233.30\n",
       "4      233.55\n",
       "        ...  \n",
       "243    125.40\n",
       "244    124.75\n",
       "245    125.00\n",
       "246    122.80\n",
       "247    122.80\n",
       "Name: Open, Length: 2283, dtype: float64"
      ]
     },
     "execution_count": 125,
     "metadata": {},
     "output_type": "execute_result"
    }
   ],
   "source": [
    "#get the predicted stock\n",
    "dataset_total=pd.concat((dataset_train['Open'], dataset_test['Open']),axis=0)\n",
    "dataset_total"
   ]
  },
  {
   "cell_type": "code",
   "execution_count": 129,
   "id": "3323ea91-ade9-46b3-8638-1f1aab018d4c",
   "metadata": {},
   "outputs": [
    {
     "data": {
      "text/plain": [
       "308"
      ]
     },
     "execution_count": 129,
     "metadata": {},
     "output_type": "execute_result"
    }
   ],
   "source": [
    "inputs=dataset_total[len(dataset_total)-len(dataset_test)-60:].values\n",
    "len(inputs)"
   ]
  },
  {
   "cell_type": "code",
   "execution_count": 133,
   "id": "b714040c-4a45-45f5-83e3-3403917b30c1",
   "metadata": {},
   "outputs": [],
   "source": [
    "inputs=inputs.reshape(-1,1)\n",
    "inputs=sc.transform(inputs)\n",
    "X_test=[]\n",
    "for i in range(60,308):\n",
    "    X_test.append(inputs[i-60:i,0])\n"
   ]
  },
  {
   "cell_type": "code",
   "execution_count": 137,
   "id": "efd7b700-498b-4b95-bdaf-7e5b3fc74677",
   "metadata": {},
   "outputs": [
    {
     "data": {
      "text/plain": [
       "248"
      ]
     },
     "execution_count": 137,
     "metadata": {},
     "output_type": "execute_result"
    }
   ],
   "source": [
    "len(X_test)"
   ]
  },
  {
   "cell_type": "code",
   "execution_count": 145,
   "id": "9c62f2dd-1489-4f4b-95a5-a82cd21d8c23",
   "metadata": {},
   "outputs": [
    {
     "name": "stdout",
     "output_type": "stream",
     "text": [
      "\u001b[1m8/8\u001b[0m \u001b[32m━━━━━━━━━━━━━━━━━━━━\u001b[0m\u001b[37m\u001b[0m \u001b[1m2s\u001b[0m 182ms/step\n"
     ]
    }
   ],
   "source": [
    "X_test=np.array(X_test)\n",
    "X_test=np.reshape(X_test,(X_test.shape[0], X_test.shape[1],1))\n",
    "predicted_stock_price=regressor.predict(X_test)\n",
    "predicted_stock_price=sc.inverse_transform(predicted_stock_price)"
   ]
  },
  {
   "cell_type": "code",
   "execution_count": 147,
   "id": "8091b310-b291-4a35-981f-2e7a5c6a9925",
   "metadata": {},
   "outputs": [
    {
     "data": {
      "text/plain": [
       "array([[308.05],\n",
       "       [306.5 ],\n",
       "       [305.5 ],\n",
       "       [303.7 ],\n",
       "       [301.  ],\n",
       "       [302.25],\n",
       "       [301.  ],\n",
       "       [292.  ],\n",
       "       [280.  ],\n",
       "       [289.  ],\n",
       "       [288.  ],\n",
       "       [290.  ],\n",
       "       [298.6 ],\n",
       "       [290.  ],\n",
       "       [287.55],\n",
       "       [276.  ],\n",
       "       [278.9 ],\n",
       "       [279.4 ],\n",
       "       [285.  ],\n",
       "       [288.45],\n",
       "       [278.9 ],\n",
       "       [287.3 ],\n",
       "       [277.  ],\n",
       "       [277.5 ],\n",
       "       [275.05],\n",
       "       [273.15],\n",
       "       [273.5 ],\n",
       "       [275.9 ],\n",
       "       [261.15],\n",
       "       [252.25],\n",
       "       [254.  ],\n",
       "       [237.9 ],\n",
       "       [234.7 ],\n",
       "       [236.3 ],\n",
       "       [240.7 ],\n",
       "       [225.8 ],\n",
       "       [226.  ],\n",
       "       [235.  ],\n",
       "       [224.9 ],\n",
       "       [227.  ],\n",
       "       [227.9 ],\n",
       "       [226.95],\n",
       "       [226.95],\n",
       "       [225.  ],\n",
       "       [211.3 ],\n",
       "       [204.95],\n",
       "       [211.  ],\n",
       "       [204.  ],\n",
       "       [205.5 ],\n",
       "       [207.9 ],\n",
       "       [211.45],\n",
       "       [210.4 ],\n",
       "       [210.3 ],\n",
       "       [211.  ],\n",
       "       [211.  ],\n",
       "       [209.45],\n",
       "       [209.5 ],\n",
       "       [209.65],\n",
       "       [210.  ],\n",
       "       [204.95],\n",
       "       [207.3 ],\n",
       "       [207.25],\n",
       "       [204.5 ],\n",
       "       [199.05],\n",
       "       [206.5 ],\n",
       "       [196.  ],\n",
       "       [201.45],\n",
       "       [211.  ],\n",
       "       [214.  ],\n",
       "       [216.4 ],\n",
       "       [213.  ],\n",
       "       [212.65],\n",
       "       [211.  ],\n",
       "       [208.5 ],\n",
       "       [214.65],\n",
       "       [212.  ],\n",
       "       [209.2 ],\n",
       "       [206.1 ],\n",
       "       [207.95],\n",
       "       [195.1 ],\n",
       "       [194.3 ],\n",
       "       [198.  ],\n",
       "       [198.25],\n",
       "       [198.5 ],\n",
       "       [193.  ],\n",
       "       [192.95],\n",
       "       [195.  ],\n",
       "       [197.3 ],\n",
       "       [191.5 ],\n",
       "       [197.15],\n",
       "       [196.65],\n",
       "       [189.8 ],\n",
       "       [194.  ],\n",
       "       [182.5 ],\n",
       "       [166.  ],\n",
       "       [155.1 ],\n",
       "       [161.85],\n",
       "       [165.5 ],\n",
       "       [171.8 ],\n",
       "       [167.  ],\n",
       "       [164.7 ],\n",
       "       [165.95],\n",
       "       [168.  ],\n",
       "       [171.  ],\n",
       "       [169.5 ],\n",
       "       [167.9 ],\n",
       "       [173.85],\n",
       "       [172.  ],\n",
       "       [170.5 ],\n",
       "       [172.2 ],\n",
       "       [171.9 ],\n",
       "       [175.4 ],\n",
       "       [173.8 ],\n",
       "       [176.1 ],\n",
       "       [174.25],\n",
       "       [175.9 ],\n",
       "       [175.35],\n",
       "       [171.05],\n",
       "       [167.05],\n",
       "       [159.  ],\n",
       "       [153.15],\n",
       "       [156.5 ],\n",
       "       [151.5 ],\n",
       "       [153.7 ],\n",
       "       [152.5 ],\n",
       "       [148.  ],\n",
       "       [149.95],\n",
       "       [147.25],\n",
       "       [151.15],\n",
       "       [154.6 ],\n",
       "       [157.  ],\n",
       "       [156.8 ],\n",
       "       [156.75],\n",
       "       [159.  ],\n",
       "       [159.95],\n",
       "       [158.45],\n",
       "       [156.95],\n",
       "       [152.45],\n",
       "       [153.5 ],\n",
       "       [154.9 ],\n",
       "       [155.1 ],\n",
       "       [152.65],\n",
       "       [155.  ],\n",
       "       [155.05],\n",
       "       [153.1 ],\n",
       "       [148.35],\n",
       "       [148.55],\n",
       "       [145.  ],\n",
       "       [147.2 ],\n",
       "       [144.  ],\n",
       "       [143.45],\n",
       "       [145.2 ],\n",
       "       [148.05],\n",
       "       [149.8 ],\n",
       "       [149.5 ],\n",
       "       [152.  ],\n",
       "       [154.  ],\n",
       "       [154.6 ],\n",
       "       [152.65],\n",
       "       [154.  ],\n",
       "       [155.  ],\n",
       "       [154.9 ],\n",
       "       [153.2 ],\n",
       "       [152.8 ],\n",
       "       [156.5 ],\n",
       "       [156.3 ],\n",
       "       [158.85],\n",
       "       [154.3 ],\n",
       "       [153.4 ],\n",
       "       [155.  ],\n",
       "       [152.45],\n",
       "       [152.4 ],\n",
       "       [151.  ],\n",
       "       [153.5 ],\n",
       "       [150.25],\n",
       "       [147.9 ],\n",
       "       [149.1 ],\n",
       "       [151.  ],\n",
       "       [152.  ],\n",
       "       [153.95],\n",
       "       [151.5 ],\n",
       "       [151.5 ],\n",
       "       [152.8 ],\n",
       "       [152.9 ],\n",
       "       [152.8 ],\n",
       "       [150.65],\n",
       "       [151.45],\n",
       "       [151.45],\n",
       "       [151.7 ],\n",
       "       [149.9 ],\n",
       "       [151.  ],\n",
       "       [152.9 ],\n",
       "       [143.9 ],\n",
       "       [145.55],\n",
       "       [147.  ],\n",
       "       [144.8 ],\n",
       "       [145.7 ],\n",
       "       [141.6 ],\n",
       "       [139.6 ],\n",
       "       [140.2 ],\n",
       "       [140.85],\n",
       "       [140.6 ],\n",
       "       [142.4 ],\n",
       "       [143.  ],\n",
       "       [143.95],\n",
       "       [141.1 ],\n",
       "       [145.45],\n",
       "       [138.5 ],\n",
       "       [139.15],\n",
       "       [139.  ],\n",
       "       [140.05],\n",
       "       [142.55],\n",
       "       [142.15],\n",
       "       [141.  ],\n",
       "       [140.9 ],\n",
       "       [139.2 ],\n",
       "       [140.9 ],\n",
       "       [142.4 ],\n",
       "       [144.9 ],\n",
       "       [143.95],\n",
       "       [146.  ],\n",
       "       [141.95],\n",
       "       [142.1 ],\n",
       "       [141.9 ],\n",
       "       [138.2 ],\n",
       "       [132.45],\n",
       "       [129.05],\n",
       "       [130.5 ],\n",
       "       [129.1 ],\n",
       "       [128.35],\n",
       "       [129.25],\n",
       "       [128.8 ],\n",
       "       [127.6 ],\n",
       "       [130.25],\n",
       "       [129.8 ],\n",
       "       [128.  ],\n",
       "       [128.6 ],\n",
       "       [128.2 ],\n",
       "       [126.9 ],\n",
       "       [128.3 ],\n",
       "       [125.  ],\n",
       "       [125.5 ],\n",
       "       [124.75],\n",
       "       [125.4 ],\n",
       "       [124.75],\n",
       "       [125.  ],\n",
       "       [122.8 ],\n",
       "       [122.8 ]])"
      ]
     },
     "execution_count": 147,
     "metadata": {},
     "output_type": "execute_result"
    }
   ],
   "source": [
    "#visualising the results\n",
    "plt.plot(real_stock_price, color='green', label='Real Stock Price')\n",
    "plt.plot(predicted_stock_price, color='red', label='Predicted Stock Price')\n",
    "plt.title('TATA STOCK PRICE PREDICTION')\n",
    "plt.xlabel('Time')\n",
    "plt.ylabel('Stock price')"
   ]
  },
  {
   "cell_type": "code",
   "execution_count": null,
   "id": "d581aaee-b59c-48d1-8ada-aea5a1671911",
   "metadata": {},
   "outputs": [],
   "source": []
  }
 ],
 "metadata": {
  "kernelspec": {
   "display_name": "Python 3 (ipykernel)",
   "language": "python",
   "name": "python3"
  },
  "language_info": {
   "codemirror_mode": {
    "name": "ipython",
    "version": 3
   },
   "file_extension": ".py",
   "mimetype": "text/x-python",
   "name": "python",
   "nbconvert_exporter": "python",
   "pygments_lexer": "ipython3",
   "version": "3.12.7"
  }
 },
 "nbformat": 4,
 "nbformat_minor": 5
}
